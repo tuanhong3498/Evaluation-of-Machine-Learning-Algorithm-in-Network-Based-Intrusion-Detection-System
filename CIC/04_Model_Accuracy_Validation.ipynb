{
 "cells": [
  {
   "cell_type": "markdown",
   "metadata": {},
   "source": [
    "# Accuracy Validation\n",
    "\n",
    "In this notebook, the main goal is to validate the accuracy of the models using 5-fold cross validation. This step is to prove if the model has a great accuracy on the training dataset. Besides that, cross validation can also help to check if the models overfit the training dataset.  "
   ]
  },
  {
   "cell_type": "code",
   "execution_count": 1,
   "metadata": {},
   "outputs": [],
   "source": [
    "# import all of the packages that will be used\n",
    "\n",
    "# basic packages for data processing\n",
    "import pandas as pd\n",
    "import numpy as np\n",
    "\n",
    "# packages for machine learning\n",
    "from sklearn.model_selection import cross_val_score\n",
    "from sklearn.preprocessing import StandardScaler\n",
    "from sklearn.model_selection import StratifiedKFold\n",
    "\n",
    "from sklearn import tree \n",
    "from sklearn.ensemble import RandomForestClassifier\n",
    "from sklearn.svm import SVC\n",
    "from sklearn.naive_bayes import GaussianNB\n",
    "from sklearn.neural_network import MLPClassifier\n",
    "\n",
    "# packages to interpret the training result\n",
    "import matplotlib.pyplot as plt\n",
    "%matplotlib inline\n",
    "\n",
    "# silent the warning from sklearn package\n",
    "import warnings\n",
    "warnings.filterwarnings('ignore')\n",
    "\n",
    "# set the random seed to ensure the result is reproducible\n",
    "import random\n",
    "random.seed(10)\n",
    "np.random.seed(10)"
   ]
  },
  {
   "cell_type": "code",
   "execution_count": 2,
   "metadata": {},
   "outputs": [],
   "source": [
    "features = pd.read_csv('Dataset/features_selected/CIC-IDS2017_RandomForestClassifier_20.csv').squeeze()\n",
    "features = features[:11]"
   ]
  },
  {
   "cell_type": "markdown",
   "metadata": {},
   "source": [
    "## Load the dataset"
   ]
  },
  {
   "cell_type": "markdown",
   "metadata": {},
   "source": [
    "In this notebook, only the training dataset is used. "
   ]
  },
  {
   "cell_type": "code",
   "execution_count": 3,
   "metadata": {},
   "outputs": [
    {
     "data": {
      "text/plain": [
       "(649762, 12)"
      ]
     },
     "execution_count": 3,
     "metadata": {},
     "output_type": "execute_result"
    }
   ],
   "source": [
    "columns = features.tolist() +  ['Label']\n",
    "\n",
    "ids2017 = pd.read_csv('Dataset/dataset_cleaned/CIC-IDS2017.csv', usecols=columns)\n",
    "ids2017.shape"
   ]
  },
  {
   "cell_type": "markdown",
   "metadata": {},
   "source": [
    "## Additional Processing"
   ]
  },
  {
   "cell_type": "code",
   "execution_count": 4,
   "metadata": {},
   "outputs": [],
   "source": [
    "ids2017 = ids2017.sample(frac=0.3).reset_index(drop=True)"
   ]
  },
  {
   "cell_type": "markdown",
   "metadata": {},
   "source": [
    "### Split the features and the labels "
   ]
  },
  {
   "cell_type": "code",
   "execution_count": 5,
   "metadata": {},
   "outputs": [],
   "source": [
    "ids2017_X = ids2017.drop('Label', axis=1).copy()\n",
    "ids2017_y = ids2017['Label'].copy()"
   ]
  },
  {
   "cell_type": "markdown",
   "metadata": {},
   "source": [
    "### Data scaling"
   ]
  },
  {
   "cell_type": "code",
   "execution_count": 6,
   "metadata": {},
   "outputs": [],
   "source": [
    "scalar = StandardScaler()\n",
    "# only fit the training data\n",
    "ids2017_X_scaled = scalar.fit_transform(ids2017_X)"
   ]
  },
  {
   "cell_type": "markdown",
   "metadata": {},
   "source": [
    "## Build the ultimate models"
   ]
  },
  {
   "cell_type": "code",
   "execution_count": 7,
   "metadata": {},
   "outputs": [],
   "source": [
    "models = {\n",
    "    'Decision Tree': tree.DecisionTreeClassifier(criterion='entropy', ccp_alpha=1.4401469385343852e-05),\n",
    "    'Random Forest': RandomForestClassifier(max_depth=20, min_samples_leaf=0.00001, min_samples_split=0.00001, n_estimators=350, n_jobs=-1,criterion='gini'),\n",
    "    'Support Vector Machine': SVC(C=100, gamma=1, kernel='rbf'),\n",
    "    'Naive Bayes': GaussianNB(var_smoothing=1.0),\n",
    "    'Artificial Neural Network': MLPClassifier(hidden_layer_sizes=(50,), activation='tanh', alpha=0.0001, solver='adam', max_iter=1000),\n",
    "    'Deep Neural Network': MLPClassifier(hidden_layer_sizes=(15, 15, 15), activation='tanh', alpha=1e-05, solver='adam', max_iter=1000)\n",
    "}"
   ]
  },
  {
   "cell_type": "code",
   "execution_count": 8,
   "metadata": {},
   "outputs": [
    {
     "name": "stdout",
     "output_type": "stream",
     "text": [
      "------------------------- Decision Tree -------------------------\n",
      "Accuracy: [0.99715282 0.99669112 0.99710152 0.99710152 0.99697319]\n",
      "mean: 0.9970\t\tstd: 0.0002\n",
      "------------------------- Random Forest -------------------------\n",
      "Accuracy: [0.99679372 0.99784538 0.99738368 0.99676807 0.9970758 ]\n",
      "mean: 0.9972\t\tstd: 0.0004\n",
      "------------------------- Support Vector Machine -------------------------\n",
      "Accuracy: [0.96542349 0.96406402 0.96603909 0.96411532 0.96549955]\n",
      "mean: 0.9650\t\tstd: 0.0008\n",
      "------------------------- Naive Bayes -------------------------\n",
      "Accuracy: [0.7312625  0.73123685 0.73067255 0.7311086  0.73125561]\n",
      "mean: 0.7311\t\tstd: 0.0002\n",
      "------------------------- Artificial Neural Network -------------------------\n",
      "Accuracy: [0.96880932 0.96778331 0.97047658 0.97414456 0.96531999]\n",
      "mean: 0.9693\t\tstd: 0.0029\n",
      "------------------------- Deep Neural Network -------------------------\n",
      "Accuracy: [0.97732519 0.9777356  0.9776843  0.97699174 0.97606772]\n",
      "mean: 0.9772\t\tstd: 0.0006\n"
     ]
    }
   ],
   "source": [
    "accuracy_scores = {}\n",
    "accuracy_scores_mean = {}\n",
    "accuracy_scores_std = {}\n",
    "\n",
    "cv = StratifiedKFold(n_splits=5, shuffle=True)\n",
    "\n",
    "for model in models:\n",
    "    clf = models[model]\n",
    "\n",
    "    accuracy_scores[model] = cross_val_score(clf, \n",
    "                                            ids2017_X_scaled, \n",
    "                                            ids2017_y, \n",
    "                                            cv=cv, \n",
    "                                            scoring='accuracy',\n",
    "                                            n_jobs=-1)\n",
    "    accuracy_scores_mean[model] = np.mean(accuracy_scores[model])\n",
    "    accuracy_scores_std[model] = np.std(accuracy_scores[model])\n",
    "\n",
    "    print(f\"{'-'*25} {model} {'-'*25}\")\n",
    "    print(f\"Accuracy: {accuracy_scores[model]}\")\n",
    "    print(f\"mean: {accuracy_scores_mean[model]:.4f}\\t\\tstd: {accuracy_scores_std[model]:.4f}\")"
   ]
  },
  {
   "cell_type": "markdown",
   "metadata": {},
   "source": [
    "## Accuracy score of each model"
   ]
  },
  {
   "cell_type": "code",
   "execution_count": 9,
   "metadata": {},
   "outputs": [
    {
     "data": {
      "image/png": "[encoded data removed]",
      "text/plain": [
       "<Figure size 1080x576 with 1 Axes>"
      ]
     },
     "metadata": {
      "needs_background": "light"
     },
     "output_type": "display_data"
    }
   ],
   "source": [
    "plt.rcParams.update({'font.size': 15})\n",
    "fig, ax = plt.subplots(figsize= (15, 8))\n",
    "\n",
    "ax.bar(accuracy_scores_mean.keys(),\n",
    "        accuracy_scores_mean.values(),\n",
    "        yerr=accuracy_scores_std.values(),\n",
    "        capsize=30)\n",
    "ax.set_xlabel('ML models')\n",
    "ax.set_ylabel('Accuracy')\n",
    "ax.set_title('5-fold cross validation result using CIC-IDS2017')\n",
    "plt.setp(ax.get_xticklabels(), rotation=10, horizontalalignment='center') # rotate the label\n",
    "\n",
    "plt.show()"
   ]
  }
 ],
 "metadata": {
  "interpreter": {
   "hash": "44c13dc6c3f21bbb987c14254e5f1628aa054b85b2e38852b8ccc1d4b03a22cf"
  },
  "kernelspec": {
   "display_name": "Python 3.8.8 64-bit ('base': conda)",
   "language": "python",
   "name": "python3"
  },
  "language_info": {
   "codemirror_mode": {
    "name": "ipython",
    "version": 3
   },
   "file_extension": ".py",
   "mimetype": "text/x-python",
   "name": "python",
   "nbconvert_exporter": "python",
   "pygments_lexer": "ipython3",
   "version": "3.8.8"
  },
  "orig_nbformat": 4
 },
 "nbformat": 4,
 "nbformat_minor": 2
}
