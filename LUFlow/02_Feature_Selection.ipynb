{
 "cells": [
  {
   "cell_type": "markdown",
   "metadata": {},
   "source": [
    "# Feature Selection\n",
    "\n",
    "The goal of this notebook is to perform the feature selection. There are three methods that will be used to perform the feature selection:\n",
    "1. Inspection - The first step is to manually remove some of the features through human inspection. \n",
    "2. Random forest - The features will be ranked based on the importance score provided by the random forest classifier and the top $n$ features will be selected\n",
    "3. Brute force - Train the ML models by using different number of features. The accuracy of each model with respect to the number of features will be recorded to select the most concise feature set.  "
   ]
  },
  {
   "cell_type": "code",
   "execution_count": 1,
   "metadata": {},
   "outputs": [],
   "source": [
    "# import all necessary packages\n",
    "\n",
    "# basic packages for data processing\n",
    "import os       # to create directories and remove files\n",
    "import pandas as pd\n",
    "import numpy as np \n",
    "import random # import random package to specify the random seed\n",
    "\n",
    "# modules for machine learning\n",
    "from sklearn.model_selection import train_test_split\n",
    "from sklearn.preprocessing import StandardScaler\n",
    "\n",
    "from sklearn import tree \n",
    "from sklearn.ensemble import RandomForestClassifier\n",
    "from sklearn.svm import SVC\n",
    "from sklearn.naive_bayes import GaussianNB\n",
    "from sklearn.neural_network import MLPClassifier\n",
    "\n",
    "# modules to interpret the training result\n",
    "from sklearn import metrics\n",
    "import matplotlib.pyplot as plt\n",
    "%matplotlib inline\n",
    "\n",
    "# silent the warning from the sklearn library\n",
    "import warnings\n",
    "warnings.filterwarnings('ignore')\n",
    "\n",
    "# set the random seed to ensure the result is reproducible\n",
    "random.seed(10)\n",
    "np.random.seed(10)\n"
   ]
  },
  {
   "cell_type": "markdown",
   "metadata": {},
   "source": [
    "Load the dataset. \n",
    "\n",
    "Since the LUFlow dataset is huge, only 5% of dataset will be used for feature selection"
   ]
  },
  {
   "cell_type": "code",
   "execution_count": 2,
   "metadata": {},
   "outputs": [
    {
     "data": {
      "text/plain": [
       "(87974, 16)"
      ]
     },
     "execution_count": 2,
     "metadata": {},
     "output_type": "execute_result"
    }
   ],
   "source": [
    "# load the dataset\n",
    "luflow = pd.read_csv('Dataset/dataset_cleaned/LUFlow.csv')\n",
    "luflow = luflow.sample(frac=0.05).reset_index(drop=True)\n",
    "luflow.shape"
   ]
  },
  {
   "cell_type": "markdown",
   "metadata": {},
   "source": [
    "## Step 1. Inspection\n",
    "\n",
    "In this step, some of the features will be manually removed. This step is necessary as some features will affect the long term performance of the model despite having high correlation with the output variable. IP address, for example, is a feature that might be useful to detect intrusion in short term but may not be as useful in longer term. "
   ]
  },
  {
   "cell_type": "markdown",
   "metadata": {},
   "source": [
    "In the LUFlow dataset, there are several features that should be removed. First is the `src_ip` and the `dest_ip` columns, which represent source IP address and destination IP address respectively. \n",
    "\n",
    "Besides that there are two columns called `time_start` and `time_end`, which are time recorded using UNIX timestamp. These columns should be removed as it will keep increasing as the time pass and thus not providing meaningful information. However, the difference between `time_start` and `time_end` could provide useful information. In the dataset, there is also a column called `duration`, it should be checked if it represent the difference between `time_start` and `time_end`. "
   ]
  },
  {
   "cell_type": "code",
   "execution_count": 3,
   "metadata": {},
   "outputs": [
    {
     "data": {
      "text/html": [
       "<div>\n",
       "<style scoped>\n",
       "    .dataframe tbody tr th:only-of-type {\n",
       "        vertical-align: middle;\n",
       "    }\n",
       "\n",
       "    .dataframe tbody tr th {\n",
       "        vertical-align: top;\n",
       "    }\n",
       "\n",
       "    .dataframe thead th {\n",
       "        text-align: right;\n",
       "    }\n",
       "</style>\n",
       "<table border=\"1\" class=\"dataframe\">\n",
       "  <thead>\n",
       "    <tr style=\"text-align: right;\">\n",
       "      <th></th>\n",
       "      <th>time_start</th>\n",
       "      <th>time_end</th>\n",
       "      <th>time_between</th>\n",
       "      <th>duration</th>\n",
       "    </tr>\n",
       "  </thead>\n",
       "  <tbody>\n",
       "    <tr>\n",
       "      <th>0</th>\n",
       "      <td>1593970963610084</td>\n",
       "      <td>1593970963610084</td>\n",
       "      <td>0</td>\n",
       "      <td>0.000000</td>\n",
       "    </tr>\n",
       "    <tr>\n",
       "      <th>1</th>\n",
       "      <td>1595303744019711</td>\n",
       "      <td>1595303744019711</td>\n",
       "      <td>0</td>\n",
       "      <td>0.000000</td>\n",
       "    </tr>\n",
       "    <tr>\n",
       "      <th>2</th>\n",
       "      <td>1595071437271669</td>\n",
       "      <td>1595071438106433</td>\n",
       "      <td>834764</td>\n",
       "      <td>0.834764</td>\n",
       "    </tr>\n",
       "    <tr>\n",
       "      <th>3</th>\n",
       "      <td>1593674270265568</td>\n",
       "      <td>1593674271008109</td>\n",
       "      <td>742541</td>\n",
       "      <td>0.742541</td>\n",
       "    </tr>\n",
       "    <tr>\n",
       "      <th>4</th>\n",
       "      <td>159527274486398</td>\n",
       "      <td>1595272752016373</td>\n",
       "      <td>1435745477529975</td>\n",
       "      <td>7.152393</td>\n",
       "    </tr>\n",
       "    <tr>\n",
       "      <th>...</th>\n",
       "      <td>...</td>\n",
       "      <td>...</td>\n",
       "      <td>...</td>\n",
       "      <td>...</td>\n",
       "    </tr>\n",
       "    <tr>\n",
       "      <th>87969</th>\n",
       "      <td>1594382446702303</td>\n",
       "      <td>1594382446714443</td>\n",
       "      <td>12140</td>\n",
       "      <td>0.012140</td>\n",
       "    </tr>\n",
       "    <tr>\n",
       "      <th>87970</th>\n",
       "      <td>1593664319741509</td>\n",
       "      <td>1593664319741585</td>\n",
       "      <td>76</td>\n",
       "      <td>0.000076</td>\n",
       "    </tr>\n",
       "    <tr>\n",
       "      <th>87971</th>\n",
       "      <td>1595061099373362</td>\n",
       "      <td>1595061100329039</td>\n",
       "      <td>955677</td>\n",
       "      <td>0.955677</td>\n",
       "    </tr>\n",
       "    <tr>\n",
       "      <th>87972</th>\n",
       "      <td>1594571979216475</td>\n",
       "      <td>1594571979216978</td>\n",
       "      <td>503</td>\n",
       "      <td>0.000503</td>\n",
       "    </tr>\n",
       "    <tr>\n",
       "      <th>87973</th>\n",
       "      <td>1595911494302381</td>\n",
       "      <td>1595911494302381</td>\n",
       "      <td>0</td>\n",
       "      <td>0.000000</td>\n",
       "    </tr>\n",
       "  </tbody>\n",
       "</table>\n",
       "<p>87974 rows × 4 columns</p>\n",
       "</div>"
      ],
      "text/plain": [
       "             time_start          time_end      time_between  duration\n",
       "0      1593970963610084  1593970963610084                 0  0.000000\n",
       "1      1595303744019711  1595303744019711                 0  0.000000\n",
       "2      1595071437271669  1595071438106433            834764  0.834764\n",
       "3      1593674270265568  1593674271008109            742541  0.742541\n",
       "4       159527274486398  1595272752016373  1435745477529975  7.152393\n",
       "...                 ...               ...               ...       ...\n",
       "87969  1594382446702303  1594382446714443             12140  0.012140\n",
       "87970  1593664319741509  1593664319741585                76  0.000076\n",
       "87971  1595061099373362  1595061100329039            955677  0.955677\n",
       "87972  1594571979216475  1594571979216978               503  0.000503\n",
       "87973  1595911494302381  1595911494302381                 0  0.000000\n",
       "\n",
       "[87974 rows x 4 columns]"
      ]
     },
     "execution_count": 3,
     "metadata": {},
     "output_type": "execute_result"
    }
   ],
   "source": [
    "luflow['time_between'] = luflow['time_end'] - luflow['time_start']\n",
    "\n",
    "luflow[['time_start', 'time_end', 'time_between', 'duration']]"
   ]
  },
  {
   "cell_type": "markdown",
   "metadata": {},
   "source": [
    "From the table above, we can see that the `duration` represent the difference between `time_start` and `time_end`. "
   ]
  },
  {
   "cell_type": "markdown",
   "metadata": {},
   "source": [
    "### Drop the unwanted columns"
   ]
  },
  {
   "cell_type": "code",
   "execution_count": 4,
   "metadata": {},
   "outputs": [
    {
     "data": {
      "text/html": [
       "<div>\n",
       "<style scoped>\n",
       "    .dataframe tbody tr th:only-of-type {\n",
       "        vertical-align: middle;\n",
       "    }\n",
       "\n",
       "    .dataframe tbody tr th {\n",
       "        vertical-align: top;\n",
       "    }\n",
       "\n",
       "    .dataframe thead th {\n",
       "        text-align: right;\n",
       "    }\n",
       "</style>\n",
       "<table border=\"1\" class=\"dataframe\">\n",
       "  <thead>\n",
       "    <tr style=\"text-align: right;\">\n",
       "      <th></th>\n",
       "      <th>avg_ipt</th>\n",
       "      <th>bytes_in</th>\n",
       "      <th>bytes_out</th>\n",
       "      <th>dest_port</th>\n",
       "      <th>entropy</th>\n",
       "      <th>num_pkts_out</th>\n",
       "      <th>num_pkts_in</th>\n",
       "      <th>proto</th>\n",
       "      <th>src_port</th>\n",
       "      <th>total_entropy</th>\n",
       "      <th>label</th>\n",
       "      <th>duration</th>\n",
       "    </tr>\n",
       "  </thead>\n",
       "  <tbody>\n",
       "    <tr>\n",
       "      <th>0</th>\n",
       "      <td>0.00</td>\n",
       "      <td>0</td>\n",
       "      <td>517</td>\n",
       "      <td>50850.0</td>\n",
       "      <td>7.310200</td>\n",
       "      <td>1</td>\n",
       "      <td>0</td>\n",
       "      <td>6</td>\n",
       "      <td>9200.0</td>\n",
       "      <td>3779.3735</td>\n",
       "      <td>benign</td>\n",
       "      <td>0.000000</td>\n",
       "    </tr>\n",
       "    <tr>\n",
       "      <th>1</th>\n",
       "      <td>0.00</td>\n",
       "      <td>0</td>\n",
       "      <td>0</td>\n",
       "      <td>9200.0</td>\n",
       "      <td>0.000000</td>\n",
       "      <td>1</td>\n",
       "      <td>0</td>\n",
       "      <td>6</td>\n",
       "      <td>34772.0</td>\n",
       "      <td>0.0000</td>\n",
       "      <td>benign</td>\n",
       "      <td>0.000000</td>\n",
       "    </tr>\n",
       "    <tr>\n",
       "      <th>2</th>\n",
       "      <td>107.75</td>\n",
       "      <td>270</td>\n",
       "      <td>191</td>\n",
       "      <td>445.0</td>\n",
       "      <td>4.573646</td>\n",
       "      <td>6</td>\n",
       "      <td>6</td>\n",
       "      <td>6</td>\n",
       "      <td>56851.0</td>\n",
       "      <td>2108.4510</td>\n",
       "      <td>malicious</td>\n",
       "      <td>0.834764</td>\n",
       "    </tr>\n",
       "    <tr>\n",
       "      <th>3</th>\n",
       "      <td>101.50</td>\n",
       "      <td>270</td>\n",
       "      <td>191</td>\n",
       "      <td>445.0</td>\n",
       "      <td>4.571218</td>\n",
       "      <td>6</td>\n",
       "      <td>6</td>\n",
       "      <td>6</td>\n",
       "      <td>59398.0</td>\n",
       "      <td>2107.3313</td>\n",
       "      <td>malicious</td>\n",
       "      <td>0.742541</td>\n",
       "    </tr>\n",
       "    <tr>\n",
       "      <th>4</th>\n",
       "      <td>0.00</td>\n",
       "      <td>0</td>\n",
       "      <td>0</td>\n",
       "      <td>53.0</td>\n",
       "      <td>0.000000</td>\n",
       "      <td>4</td>\n",
       "      <td>0</td>\n",
       "      <td>6</td>\n",
       "      <td>54168.0</td>\n",
       "      <td>0.0000</td>\n",
       "      <td>benign</td>\n",
       "      <td>7.152393</td>\n",
       "    </tr>\n",
       "  </tbody>\n",
       "</table>\n",
       "</div>"
      ],
      "text/plain": [
       "   avg_ipt  bytes_in  bytes_out  dest_port   entropy  num_pkts_out  \\\n",
       "0     0.00         0        517    50850.0  7.310200             1   \n",
       "1     0.00         0          0     9200.0  0.000000             1   \n",
       "2   107.75       270        191      445.0  4.573646             6   \n",
       "3   101.50       270        191      445.0  4.571218             6   \n",
       "4     0.00         0          0       53.0  0.000000             4   \n",
       "\n",
       "   num_pkts_in  proto  src_port  total_entropy      label  duration  \n",
       "0            0      6    9200.0      3779.3735     benign  0.000000  \n",
       "1            0      6   34772.0         0.0000     benign  0.000000  \n",
       "2            6      6   56851.0      2108.4510  malicious  0.834764  \n",
       "3            6      6   59398.0      2107.3313  malicious  0.742541  \n",
       "4            0      6   54168.0         0.0000     benign  7.152393  "
      ]
     },
     "execution_count": 4,
     "metadata": {},
     "output_type": "execute_result"
    }
   ],
   "source": [
    "luflow = luflow.drop(['src_ip', 'dest_ip', 'time_start', 'time_end', 'time_between'], axis=1)\n",
    "luflow.head()"
   ]
  },
  {
   "cell_type": "markdown",
   "metadata": {},
   "source": [
    "## Step 2. Random forest feature selection\n",
    "\n",
    "In this step, the features will be selected using the random forest algorithm. First, a random forest will be trained. After that, the features will be ranked according to the importance score provided by the random forest and the top $n$ features will be selected. "
   ]
  },
  {
   "cell_type": "code",
   "execution_count": 5,
   "metadata": {},
   "outputs": [],
   "source": [
    "# seperate the features and the output variables into two dataframe\n",
    "luflow_X = luflow.drop('label', axis=1).copy()\n",
    "luflow_y = luflow['label'].copy()"
   ]
  },
  {
   "cell_type": "code",
   "execution_count": 6,
   "metadata": {},
   "outputs": [
    {
     "name": "stdout",
     "output_type": "stream",
     "text": [
      "Wall time: 6.21 s\n"
     ]
    },
    {
     "data": {
      "text/plain": [
       "RandomForestClassifier()"
      ]
     },
     "execution_count": 6,
     "metadata": {},
     "output_type": "execute_result"
    }
   ],
   "source": [
    "%%time\n",
    "\n",
    "rfc = RandomForestClassifier()\n",
    "rfc.fit(luflow_X, luflow_y)"
   ]
  },
  {
   "cell_type": "code",
   "execution_count": 7,
   "metadata": {},
   "outputs": [
    {
     "name": "stdout",
     "output_type": "stream",
     "text": [
      "Top features: \n",
      "               importance score\n",
      "feature                        \n",
      "dest_port                 0.347\n",
      "bytes_out                 0.165\n",
      "total_entropy             0.126\n",
      "src_port                  0.106\n",
      "num_pkts_in               0.081\n",
      "duration                  0.077\n",
      "avg_ipt                   0.026\n",
      "entropy                   0.023\n",
      "bytes_in                  0.021\n",
      "num_pkts_out              0.020\n",
      "proto                     0.007\n"
     ]
    },
    {
     "data": {
      "text/plain": [
       "<AxesSubplot:xlabel='feature'>"
      ]
     },
     "execution_count": 7,
     "metadata": {},
     "output_type": "execute_result"
    },
    {
     "data": {
      "image/png": "[encoded data removed]",
      "text/plain": [
       "<Figure size 864x288 with 1 Axes>"
      ]
     },
     "metadata": {
      "needs_background": "light"
     },
     "output_type": "display_data"
    }
   ],
   "source": [
    "#extract the importance score\n",
    "score = np.round(rfc.feature_importances_, 3)\n",
    "importance = pd.DataFrame({'feature': luflow_X.columns,\n",
    "                             'importance score': score})\n",
    "importance = importance.sort_values('importance score', ascending=False).set_index('feature')\n",
    "\n",
    "print(f\"Top features: \\n{importance}\")\n",
    "\n",
    "plt.rcParams['figure.figsize'] = (12, 4)\n",
    "importance.plot.bar()"
   ]
  },
  {
   "cell_type": "code",
   "execution_count": 8,
   "metadata": {},
   "outputs": [],
   "source": [
    "def save_feature(features: pd.Series, dataset_name: str, algorithm: str, tag: str = \"\"):\n",
    "    \n",
    "    feature_count = features.shape[0]\n",
    "\n",
    "    if not(tag == \"\"):\n",
    "        tag = \"_\" + tag\n",
    "    \n",
    "    directory = 'Dataset/features_selected'\n",
    "    file_name = f\"{dataset_name}_{algorithm}_{feature_count}{tag}\"\n",
    "    \n",
    "    # create directory to save the file\n",
    "    os.makedirs(directory, exist_ok=True)\n",
    "    \n",
    "    features.to_csv(f\"{directory}/{file_name}.csv\", index=False, columns=None)\n",
    "\n",
    "    print(f\"The features have been saved in {directory}/{file_name}.csv\")"
   ]
  },
  {
   "cell_type": "code",
   "execution_count": 9,
   "metadata": {},
   "outputs": [
    {
     "name": "stdout",
     "output_type": "stream",
     "text": [
      "The features have been saved in Dataset/features_selected/LUFlow_RandomForestClassifier_11.csv\n"
     ]
    }
   ],
   "source": [
    "# save the ranking of the features in a CSV file\n",
    "features = pd.Series(importance.index[:], dtype='str')\n",
    "save_feature(features=features,\n",
    "            dataset_name='LUFlow', \n",
    "            algorithm='RandomForestClassifier')"
   ]
  },
  {
   "cell_type": "markdown",
   "metadata": {},
   "source": [
    "## Step 3. Brute force\n",
    "\n",
    "After selecting the features using random forest, the number of features will be further reduced using brute force. The method is quite simple, the ML models will be trained using different number of features. The feature set that can gives comparable accuracy with the least number of features will be the final feature set. \n",
    "\n",
    " Started from the $1^{st}$ ranked feature, features will be added until all $n$ features are used. As the LUFlow dataset only contain a few number of features, the $n$ is equals to the total number of features. "
   ]
  },
  {
   "cell_type": "code",
   "execution_count": 10,
   "metadata": {},
   "outputs": [],
   "source": [
    "# define ML models without optimized hyperparameter\n",
    "models = {\n",
    "    'Decision Tree': tree.DecisionTreeClassifier(),\n",
    "    'Random Forest': RandomForestClassifier(n_jobs=-1),\n",
    "    'Support Vector Machine': SVC(),\n",
    "    'Naive Bayes': GaussianNB(),\n",
    "    'Artificial Neural Network': MLPClassifier(hidden_layer_sizes=(40), max_iter=500),\n",
    "    'Deep Neural Network': MLPClassifier(hidden_layer_sizes=(12, 12, 12), max_iter=500)\n",
    "}"
   ]
  },
  {
   "cell_type": "code",
   "execution_count": 11,
   "metadata": {},
   "outputs": [],
   "source": [
    "luflow_train_X, luflow_test_X, luflow_train_y, luflow_test_y = train_test_split(luflow_X, luflow_y, test_size=0.3)"
   ]
  },
  {
   "cell_type": "code",
   "execution_count": 12,
   "metadata": {},
   "outputs": [
    {
     "name": "stdout",
     "output_type": "stream",
     "text": [
      "Added feature 1 (dest_port) ...\n",
      "Added feature 2 (bytes_out) ...\n",
      "Added feature 3 (total_entropy) ...\n",
      "Added feature 4 (src_port) ...\n",
      "Added feature 5 (num_pkts_in) ...\n",
      "Added feature 6 (duration) ...\n",
      "Added feature 7 (avg_ipt) ...\n",
      "Added feature 8 (entropy) ...\n",
      "Added feature 9 (bytes_in) ...\n",
      "Added feature 10 (num_pkts_out) ...\n",
      "Added feature 11 (proto) ...\n"
     ]
    }
   ],
   "source": [
    "feature_set = []\n",
    "scalar = StandardScaler()\n",
    "scores = []\n",
    "\n",
    "for feature in features:\n",
    "    feature_set.append(feature)\n",
    "    print(f\"Added feature {len(feature_set)} ({feature}) ...\")\n",
    "    \n",
    "    test_X = luflow_test_X[feature_set]\n",
    "    train_X = luflow_train_X[feature_set]\n",
    "\n",
    "    # scale the dataset\n",
    "    train_X_scaled = scalar.fit(train_X)\n",
    "    train_X_scaled = scalar.transform(train_X)\n",
    "    test_X_scaled = scalar.transform(test_X)\n",
    "\n",
    "    score_temp = [len(feature_set)]\n",
    "    \n",
    "    for model in models:\n",
    "        clf = models[model]\n",
    "        clf.fit(train_X_scaled, luflow_train_y)\n",
    "\n",
    "        prediction = clf.predict(test_X_scaled)\n",
    "        accuracy = metrics.accuracy_score(luflow_test_y, prediction)\n",
    "\n",
    "        score_temp.append(accuracy)\n",
    "\n",
    "    scores.append(score_temp)\n",
    "\n",
    "\n",
    "scores = np.array(scores)"
   ]
  },
  {
   "cell_type": "code",
   "execution_count": 13,
   "metadata": {},
   "outputs": [
    {
     "data": {
      "image/png": "[encoded data removed]",
      "text/plain": [
       "<Figure size 1080x720 with 1 Axes>"
      ]
     },
     "metadata": {
      "needs_background": "light"
     },
     "output_type": "display_data"
    }
   ],
   "source": [
    "plt.figure(figsize=(15, 10))\n",
    "for index, model in enumerate(models):\n",
    "    plt.plot(scores.T[0], scores.T[index + 1], label=model)\n",
    "\n",
    "plt.rcParams.update({'font.size': 13})\n",
    "plt.title('Accuracy of the models with respect to the number of features')\n",
    "plt.xlabel('Number of features')\n",
    "plt.ylabel('Accuracy score')\n",
    "plt.legend()\n",
    "plt.grid()\n",
    "plt.show()"
   ]
  },
  {
   "cell_type": "markdown",
   "metadata": {},
   "source": [
    "From the chart above, we can see that the top $6$ features will give the best and most balanced accuracy. "
   ]
  }
 ],
 "metadata": {
  "interpreter": {
   "hash": "44c13dc6c3f21bbb987c14254e5f1628aa054b85b2e38852b8ccc1d4b03a22cf"
  },
  "kernelspec": {
   "display_name": "Python 3.8.8 64-bit ('base': conda)",
   "name": "python3"
  },
  "language_info": {
   "codemirror_mode": {
    "name": "ipython",
    "version": 3
   },
   "file_extension": ".py",
   "mimetype": "text/x-python",
   "name": "python",
   "nbconvert_exporter": "python",
   "pygments_lexer": "ipython3",
   "version": "3.8.8"
  },
  "orig_nbformat": 4
 },
 "nbformat": 4,
 "nbformat_minor": 2
}
