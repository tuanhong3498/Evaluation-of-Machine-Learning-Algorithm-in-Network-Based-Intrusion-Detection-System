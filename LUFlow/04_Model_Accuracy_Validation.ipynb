{
 "cells": [
  {
   "cell_type": "markdown",
   "metadata": {},
   "source": [
    "# Accuracy Validation\n",
    "\n",
    "In this notebook, the main goal is to validate the accuracy of the models using 5-fold cross validation. This step is to prove if the model has a great accuracy on the training dataset. Besides that, cross validation can also help to check if the models overfit the training dataset.  "
   ]
  },
  {
   "cell_type": "code",
   "execution_count": 10,
   "metadata": {},
   "outputs": [],
   "source": [
    "# import all of the packages that will be used\n",
    "\n",
    "# basic packages for data processing\n",
    "import pandas as pd\n",
    "import numpy as np\n",
    "\n",
    "# packages for machine learning\n",
    "from sklearn.model_selection import cross_val_score\n",
    "from sklearn.preprocessing import StandardScaler\n",
    "from sklearn.model_selection import StratifiedKFold\n",
    "\n",
    "from sklearn import tree \n",
    "from sklearn.ensemble import RandomForestClassifier\n",
    "from sklearn.svm import SVC\n",
    "from sklearn.naive_bayes import GaussianNB\n",
    "from sklearn.neural_network import MLPClassifier\n",
    "\n",
    "# packages to interpret the training result\n",
    "import matplotlib.pyplot as plt\n",
    "%matplotlib inline\n",
    "\n",
    "# silent the warning from sklearn package\n",
    "import warnings\n",
    "warnings.filterwarnings('ignore')\n",
    "\n",
    "# set the random seed to ensure the result is reproducible\n",
    "import random\n",
    "random.seed(10)\n",
    "np.random.seed(10)"
   ]
  },
  {
   "cell_type": "code",
   "execution_count": 11,
   "metadata": {},
   "outputs": [],
   "source": [
    "features = pd.read_csv('Dataset/features_selected/LUFlow_RandomForestClassifier_11.csv').squeeze()\n",
    "features = features[:6]"
   ]
  },
  {
   "cell_type": "markdown",
   "metadata": {},
   "source": [
    "## Load the dataset\n",
    "\n",
    "In this notebook, only the training dataset is used. "
   ]
  },
  {
   "cell_type": "code",
   "execution_count": 12,
   "metadata": {},
   "outputs": [
    {
     "data": {
      "text/plain": [
       "(1759480, 7)"
      ]
     },
     "execution_count": 12,
     "metadata": {},
     "output_type": "execute_result"
    }
   ],
   "source": [
    "columns = features.tolist() +  ['label']\n",
    "\n",
    "luflow_2020 = pd.read_csv('Dataset/dataset_cleaned/LUFlow.csv', usecols=columns)\n",
    "luflow_2020.shape"
   ]
  },
  {
   "cell_type": "markdown",
   "metadata": {},
   "source": [
    "## Additional Processing"
   ]
  },
  {
   "cell_type": "code",
   "execution_count": 13,
   "metadata": {},
   "outputs": [],
   "source": [
    "luflow_2020 = luflow_2020.sample(frac=0.3).reset_index(drop=True)"
   ]
  },
  {
   "cell_type": "markdown",
   "metadata": {},
   "source": [
    "### Split the features and the labels"
   ]
  },
  {
   "cell_type": "code",
   "execution_count": 14,
   "metadata": {},
   "outputs": [],
   "source": [
    "luflow_2020_X = luflow_2020.drop('label', axis=1).copy()\n",
    "luflow_2020_y = luflow_2020['label'].copy()"
   ]
  },
  {
   "cell_type": "markdown",
   "metadata": {},
   "source": [
    "### Data scaling"
   ]
  },
  {
   "cell_type": "code",
   "execution_count": 15,
   "metadata": {},
   "outputs": [],
   "source": [
    "scalar = StandardScaler()\n",
    "# only fit the training data\n",
    "luflow_2020_X_scaled = scalar.fit_transform(luflow_2020_X)"
   ]
  },
  {
   "cell_type": "markdown",
   "metadata": {},
   "source": [
    "## Build the ultimate models\n",
    "\n",
    "Build the models with optimal hyperparameters. "
   ]
  },
  {
   "cell_type": "code",
   "execution_count": 16,
   "metadata": {},
   "outputs": [],
   "source": [
    "# define the models with optimal hyperparameter retrived in Step 3\n",
    "models = {\n",
    "    'Decision Tree': tree.DecisionTreeClassifier(criterion='entropy', ccp_alpha=0.00013808459751681997),\n",
    "    'Random Forest': RandomForestClassifier(n_jobs=-1,criterion='gini', max_depth=10, min_samples_leaf=0.00005, min_samples_split=12, n_estimators=300),\n",
    "    'Support Vector Machine': SVC(C=100, gamma=1, kernel='rbf'),\n",
    "    'Naive Bayes': GaussianNB(var_smoothing=8.111308307896873e-06),\n",
    "    'Artificial Neural Network': MLPClassifier(hidden_layer_sizes=(40,), activation='relu', solver='adam', alpha=0.001, max_iter=500),\n",
    "    'Deep Neural Network': MLPClassifier(hidden_layer_sizes=(10, 10, 10), activation='tanh', solver='adam', alpha=1e-05, max_iter=500)\n",
    "}"
   ]
  },
  {
   "cell_type": "code",
   "execution_count": 17,
   "metadata": {},
   "outputs": [
    {
     "name": "stdout",
     "output_type": "stream",
     "text": [
      "------------------------- Decision Tree -------------------------\n",
      "Accuracy: [0.9994506  0.99927062 0.99937482 0.99944112 0.99947901]\n",
      "mean: 0.9994\t\tstd: 0.0001\n",
      "------------------------- Random Forest -------------------------\n",
      "Accuracy: [0.99947901 0.99939376 0.99948849 0.99955479 0.99950743]\n",
      "mean: 0.9995\t\tstd: 0.0001\n",
      "------------------------- Support Vector Machine -------------------------\n",
      "Accuracy: [0.9961447  0.99604998 0.9962489  0.99560477 0.99543422]\n",
      "mean: 0.9959\t\tstd: 0.0003\n",
      "------------------------- Naive Bayes -------------------------\n",
      "Accuracy: [0.72010723 0.71536152 0.72096922 0.72336576 0.71898681]\n",
      "mean: 0.7198\t\tstd: 0.0026\n",
      "------------------------- Artificial Neural Network -------------------------\n",
      "Accuracy: [0.9953206  0.99603103 0.99587    0.99562372 0.99524477]\n",
      "mean: 0.9956\t\tstd: 0.0003\n",
      "------------------------- Deep Neural Network -------------------------\n",
      "Accuracy: [0.99842757 0.9983139  0.99826654 0.99867385 0.99856017]\n",
      "mean: 0.9984\t\tstd: 0.0002\n"
     ]
    }
   ],
   "source": [
    "accuracy_scores = {}\n",
    "accuracy_scores_mean = {}\n",
    "accuracy_scores_std = {}\n",
    "\n",
    "cv = StratifiedKFold(n_splits=5, shuffle=True)\n",
    "\n",
    "for model in models:\n",
    "    clf = models[model]\n",
    "    \n",
    "    accuracy_scores[model] = cross_val_score(clf, \n",
    "                                            luflow_2020_X_scaled, \n",
    "                                            luflow_2020_y, \n",
    "                                            cv=cv, \n",
    "                                            scoring='accuracy',\n",
    "                                            n_jobs=-1)\n",
    "    accuracy_scores_mean[model] = np.mean(accuracy_scores[model])\n",
    "    accuracy_scores_std[model] = np.std(accuracy_scores[model])\n",
    "\n",
    "    print(f\"{'-'*25} {model} {'-'*25}\")\n",
    "    print(f\"Accuracy: {accuracy_scores[model]}\")\n",
    "    print(f\"mean: {accuracy_scores_mean[model]:.4f}\\t\\tstd: {accuracy_scores_std[model]:.4f}\")"
   ]
  },
  {
   "cell_type": "markdown",
   "metadata": {},
   "source": [
    "## Accuracy score of each model"
   ]
  },
  {
   "cell_type": "code",
   "execution_count": 18,
   "metadata": {},
   "outputs": [
    {
     "data": {
      "image/png": "[encoded data removed]",
      "text/plain": [
       "<Figure size 1080x576 with 1 Axes>"
      ]
     },
     "metadata": {
      "needs_background": "light"
     },
     "output_type": "display_data"
    }
   ],
   "source": [
    "plt.rcParams.update({'font.size': 15})\n",
    "fig, ax = plt.subplots(figsize= (15, 8))\n",
    "\n",
    "# ax.boxplot(accuracy_scores.values())\n",
    "ax.bar(accuracy_scores_mean.keys(),\n",
    "        accuracy_scores_mean.values(),\n",
    "        yerr=accuracy_scores_std.values(),\n",
    "        capsize=30)\n",
    "ax.set_xlabel('ML models')\n",
    "ax.set_ylabel('Accuracy')\n",
    "ax.set_title('5-fold cross validation result using LUFlow dataset (2020)')\n",
    "plt.setp(ax.get_xticklabels(), rotation=10, horizontalalignment='center') # rotate the label\n",
    "\n",
    "plt.show()"
   ]
  }
 ],
 "metadata": {
  "interpreter": {
   "hash": "44c13dc6c3f21bbb987c14254e5f1628aa054b85b2e38852b8ccc1d4b03a22cf"
  },
  "kernelspec": {
   "display_name": "Python 3.8.8 64-bit ('base': conda)",
   "language": "python",
   "name": "python3"
  },
  "language_info": {
   "codemirror_mode": {
    "name": "ipython",
    "version": 3
   },
   "file_extension": ".py",
   "mimetype": "text/x-python",
   "name": "python",
   "nbconvert_exporter": "python",
   "pygments_lexer": "ipython3",
   "version": "3.8.8"
  },
  "orig_nbformat": 4
 },
 "nbformat": 4,
 "nbformat_minor": 2
}
